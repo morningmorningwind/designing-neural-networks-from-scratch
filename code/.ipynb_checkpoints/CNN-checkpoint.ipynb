{
 "cells": [
  {
   "cell_type": "code",
   "execution_count": 104,
   "metadata": {},
   "outputs": [],
   "source": [
    "# 导入模块\n",
    "%matplotlib inline\n",
    "import torch\n",
    "import numpy as np\n",
    "import pylab as pl\n",
    "from torch import nn\n",
    "torch.manual_seed(1)\n",
    "np.random.seed(1)"
   ]
  },
  {
   "cell_type": "code",
   "execution_count": 126,
   "metadata": {},
   "outputs": [],
   "source": [
    "a = torch.randint(0,20,[3,4,6]).view(3,1,4,6)"
   ]
  },
  {
   "cell_type": "code",
   "execution_count": 127,
   "metadata": {},
   "outputs": [],
   "source": [
    "w = torch.randint(0,20,[3,2,4]).view(3,1,2,4)"
   ]
  },
  {
   "cell_type": "code",
   "execution_count": 128,
   "metadata": {},
   "outputs": [
    {
     "name": "stdout",
     "output_type": "stream",
     "text": [
      "tensor([[[[  724.,   890.,  1100.],\n",
      "          [  964.,  1059.,   762.],\n",
      "          [  582.,   532.,  1120.]],\n",
      "\n",
      "         [[  832.,   561.,   673.],\n",
      "          [  604.,   822.,   765.],\n",
      "          [  559.,   630.,   587.]],\n",
      "\n",
      "         [[  793.,   549.,   719.],\n",
      "          [  645.,   759.,   797.],\n",
      "          [  418.,   554.,   573.]]],\n",
      "\n",
      "\n",
      "        [[[  727.,   893.,   638.],\n",
      "          [  797.,  1025.,  1010.],\n",
      "          [  613.,   525.,   699.]],\n",
      "\n",
      "         [[  530.,   666.,   778.],\n",
      "          [  536.,   733.,   688.],\n",
      "          [  497.,   564.,   524.]],\n",
      "\n",
      "         [[  556.,   597.,   755.],\n",
      "          [  533.,   720.,   771.],\n",
      "          [  393.,   461.,   460.]]],\n",
      "\n",
      "\n",
      "        [[[ 1013.,   867.,   884.],\n",
      "          [  891.,  1209.,  1052.],\n",
      "          [ 1035.,   744.,   600.]],\n",
      "\n",
      "         [[  860.,   649.,   790.],\n",
      "          [  776.,   739.,   826.],\n",
      "          [  728.,   757.,   496.]],\n",
      "\n",
      "         [[  833.,   705.,   798.],\n",
      "          [  743.,   750.,   859.],\n",
      "          [  723.,   731.,   487.]]]])\n"
     ]
    }
   ],
   "source": [
    "print torch.conv2d(a,w)"
   ]
  },
  {
   "cell_type": "code",
   "execution_count": 133,
   "metadata": {},
   "outputs": [],
   "source": [
    "class Conv2D(nn.Module):\n",
    "    def __init__(self, n_channels, kernel_size):\n",
    "        super(Conv2D, self).__init__()\n",
    "        self.n_channels = n_channels\n",
    "        self.kernel_size = kernel_size\n",
    "        self.W = nn.Parameter(torch.randn(n_channels, *kernel_size))\n",
    "    def forward(self, x):\n",
    "        batch_size, n_rows, n_cols = x.size()\n",
    "        out = []\n",
    "        for c in range(0, self.n_channels):\n",
    "            out_c = []\n",
    "            for i in range(0, n_rows - self.kernel_size[0] + 1):\n",
    "                for j in range(0, n_cols - self.kernel_size[1] + 1):\n",
    "                    out_c.append(torch.sum(torch.sum(x[:,i:i + self.kernel_size[0], j:j + self.kernel_size[1]]*self.W[c],-1),-1).unsqueeze(1))\n",
    "            out_c = torch.cat(out_c,-1).view(-1,1, n_rows - self.kernel_size[0] + 1, n_cols - self.kernel_size[1] + 1)\n",
    "            out.append(out_c)\n",
    "        return torch.cat(out,1)"
   ]
  },
  {
   "cell_type": "code",
   "execution_count": 145,
   "metadata": {},
   "outputs": [
    {
     "name": "stdout",
     "output_type": "stream",
     "text": [
      "X=\n",
      "tensor([[[ 1.,  1.,  1.,  0.,  0.],\n",
      "         [ 0.,  1.,  1.,  1.,  0.],\n",
      "         [ 0.,  0.,  1.,  1.,  1.],\n",
      "         [ 0.,  0.,  1.,  1.,  0.],\n",
      "         [ 0.,  1.,  1.,  0.,  0.]]])\n",
      "W=\n",
      "tensor([[[ 1.,  0.,  1.],\n",
      "         [ 0.,  1.,  0.],\n",
      "         [ 1.,  0.,  1.]]])\n",
      "Y=\n",
      "tensor([[[[ 4.,  3.,  4.],\n",
      "          [ 2.,  4.,  3.],\n",
      "          [ 2.,  3.,  4.]]]])\n",
      "torch.Size([1, 1, 3, 3])\n",
      "tensor([[[[ 4.,  3.,  4.],\n",
      "          [ 2.,  4.,  3.],\n",
      "          [ 2.,  3.,  4.]]]])\n"
     ]
    }
   ],
   "source": [
    "X = torch.FloatTensor([[1,1,1,0,0],[0,1,1,1,0],[0,0,1,1,1],[0,0,1,1,0],[0,1,1,0,0]]).unsqueeze(0)\n",
    "W = torch.FloatTensor([[1,0,1],[0,1,0],[1,0,1]]).unsqueeze(0)\n",
    "print('X=\\n{}'.format(X))\n",
    "print('W=\\n{}'.format(W))\n",
    "conv2d = Conv2D(1,(3,3))\n",
    "conv2d.W.data=W\n",
    "Y = conv2d(X)\n",
    "print('Y=\\n{}'.format(Y))\n"
   ]
  },
  {
   "cell_type": "code",
   "execution_count": 136,
   "metadata": {},
   "outputs": [
    {
     "data": {
      "text/plain": [
       "tensor([[[[  724.,   890.,  1100.],\n",
       "          [  964.,  1059.,   762.],\n",
       "          [  582.,   532.,  1120.]],\n",
       "\n",
       "         [[  832.,   561.,   673.],\n",
       "          [  604.,   822.,   765.],\n",
       "          [  559.,   630.,   587.]],\n",
       "\n",
       "         [[  793.,   549.,   719.],\n",
       "          [  645.,   759.,   797.],\n",
       "          [  418.,   554.,   573.]]],\n",
       "\n",
       "\n",
       "        [[[  727.,   893.,   638.],\n",
       "          [  797.,  1025.,  1010.],\n",
       "          [  613.,   525.,   699.]],\n",
       "\n",
       "         [[  530.,   666.,   778.],\n",
       "          [  536.,   733.,   688.],\n",
       "          [  497.,   564.,   524.]],\n",
       "\n",
       "         [[  556.,   597.,   755.],\n",
       "          [  533.,   720.,   771.],\n",
       "          [  393.,   461.,   460.]]],\n",
       "\n",
       "\n",
       "        [[[ 1013.,   867.,   884.],\n",
       "          [  891.,  1209.,  1052.],\n",
       "          [ 1035.,   744.,   600.]],\n",
       "\n",
       "         [[  860.,   649.,   790.],\n",
       "          [  776.,   739.,   826.],\n",
       "          [  728.,   757.,   496.]],\n",
       "\n",
       "         [[  833.,   705.,   798.],\n",
       "          [  743.,   750.,   859.],\n",
       "          [  723.,   731.,   487.]]]])"
      ]
     },
     "execution_count": 136,
     "metadata": {},
     "output_type": "execute_result"
    }
   ],
   "source": [
    "conv2d.W.data = w.view(3,2,4)\n",
    "conv2d(a.view(3,4,6))"
   ]
  },
  {
   "cell_type": "code",
   "execution_count": 78,
   "metadata": {},
   "outputs": [
    {
     "data": {
      "text/plain": [
       "torch.Size([10, 1, 4, 6])"
      ]
     },
     "execution_count": 78,
     "metadata": {},
     "output_type": "execute_result"
    }
   ],
   "source": [
    "a.size()"
   ]
  },
  {
   "cell_type": "code",
   "execution_count": null,
   "metadata": {},
   "outputs": [],
   "source": []
  }
 ],
 "metadata": {
  "kernelspec": {
   "display_name": "Python 2",
   "language": "python",
   "name": "python2"
  },
  "language_info": {
   "codemirror_mode": {
    "name": "ipython",
    "version": 2
   },
   "file_extension": ".py",
   "mimetype": "text/x-python",
   "name": "python",
   "nbconvert_exporter": "python",
   "pygments_lexer": "ipython2",
   "version": "2.7.14"
  }
 },
 "nbformat": 4,
 "nbformat_minor": 2
}

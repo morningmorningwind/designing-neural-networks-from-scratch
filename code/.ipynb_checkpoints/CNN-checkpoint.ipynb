{
 "cells": [
  {
   "cell_type": "code",
   "execution_count": 60,
   "metadata": {},
   "outputs": [],
   "source": [
    "# 导入模块\n",
    "%matplotlib inline\n",
    "import torch\n",
    "import numpy as np\n",
    "import pylab as pl\n",
    "from torch import nn\n",
    "torch.manual_seed(1)\n",
    "np.random.seed(1)"
   ]
  },
  {
   "cell_type": "code",
   "execution_count": 61,
   "metadata": {},
   "outputs": [],
   "source": [
    "a = torch.randint(0,20,[4,6]).view(1,1,4,6)"
   ]
  },
  {
   "cell_type": "code",
   "execution_count": 62,
   "metadata": {},
   "outputs": [],
   "source": [
    "w = torch.randint(0,20,[2,1,2,4]).view(2,1,2,4)"
   ]
  },
  {
   "cell_type": "code",
   "execution_count": 63,
   "metadata": {},
   "outputs": [
    {
     "name": "stdout",
     "output_type": "stream",
     "text": [
      "tensor([[[[  5.,  19.,   4.,   8.,   3.,  13.],\n",
      "          [ 11.,   1.,  19.,  12.,   8.,   9.],\n",
      "          [ 16.,   3.,  13.,   0.,   2.,   1.],\n",
      "          [  2.,  16.,  10.,  13.,   6.,   4.]]]])\n",
      "tensor([[[[  3.,  16.,  14.,  12.],\n",
      "          [  9.,  14.,  18.,  16.]]],\n",
      "\n",
      "\n",
      "        [[[  7.,   3.,  17.,  13.],\n",
      "          [  3.,   6.,  12.,  10.]]]])\n",
      "tensor([[[[ 1118.,   888.,   965.],\n",
      "          [  879.,   812.,   638.],\n",
      "          [  908.,   855.,   523.]],\n",
      "\n",
      "         [[  651.,   661.,   587.],\n",
      "          [  781.,   479.,   495.],\n",
      "          [  694.,   410.,   358.]]]])\n"
     ]
    }
   ],
   "source": [
    "print a\n",
    "print w\n",
    "print torch.conv2d(a,w)"
   ]
  },
  {
   "cell_type": "code",
   "execution_count": null,
   "metadata": {},
   "outputs": [],
   "source": [
    "class Conv2D(nn.Module):\n",
    "    def __init__(self, n_channels, kernel_size):\n",
    "        super(CNN, self).__init__()\n",
    "        self.n_channels = n_channels\n",
    "        self.kernel_size = kernel_size\n",
    "        self.W = nn.Parameter(torch.randn(kernel_size))\n",
    "    def forward(self, x):\n",
    "        n_rows, n_cols = x.size()\n",
    "        out = []\n",
    "        for i in range(0, n_rows - self.kernel_size[0] + 1):\n",
    "            for j in range(0, n_cols - self.kernel_size[1] + 1):\n",
    "                out.append(x[i:i + self.kernel_size[0], j:j + self.kernel_size[j]]*self.W)\n",
    "        return torch.cat(out).view(-1, n_rows - self.kernel_size[0] + 1, n_cols - self.kernel_size[1] + 1)\n",
    "            \n",
    "                \n",
    "        "
   ]
  }
 ],
 "metadata": {
  "kernelspec": {
   "display_name": "Python 2",
   "language": "python",
   "name": "python2"
  },
  "language_info": {
   "codemirror_mode": {
    "name": "ipython",
    "version": 2
   },
   "file_extension": ".py",
   "mimetype": "text/x-python",
   "name": "python",
   "nbconvert_exporter": "python",
   "pygments_lexer": "ipython2",
   "version": "2.7.14"
  }
 },
 "nbformat": 4,
 "nbformat_minor": 2
}

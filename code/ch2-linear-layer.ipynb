{
 "cells": [
  {
   "cell_type": "code",
   "execution_count": 2,
   "metadata": {},
   "outputs": [],
   "source": [
    "# 导入模块\n",
    "%matplotlib inline\n",
    "import torch\n",
    "import numpy as np\n",
    "import pylab as pl\n",
    "from torch import nn"
   ]
  },
  {
   "cell_type": "code",
   "execution_count": 15,
   "metadata": {
    "scrolled": true
   },
   "outputs": [
    {
     "name": "stdout",
     "output_type": "stream",
     "text": [
      "X=\n",
      "[[[5 8 9 5]\n",
      "  [0 0 1 7]\n",
      "  [6 9 2 4]]\n",
      "\n",
      " [[5 2 4 2]\n",
      "  [4 7 7 9]\n",
      "  [1 7 0 6]]]\n",
      "W=\n",
      "[[[9 9 7 6 9]\n",
      "  [1 0 1 8 8]\n",
      "  [3 9 8 7 3]\n",
      "  [6 5 1 9 3]]\n",
      "\n",
      " [[4 8 1 4 0]\n",
      "  [3 9 2 0 4]\n",
      "  [9 2 7 7 9]\n",
      "  [8 6 9 3 7]]\n",
      "\n",
      " [[7 4 5 9 3]\n",
      "  [6 8 0 2 7]\n",
      "  [7 9 7 3 0]\n",
      "  [8 7 7 1 1]]]\n",
      "X.W=\n",
      "[[317 337 262 312 294]\n",
      " [340 356 266 213 291]]\n",
      "X1=\n",
      "[[5 8 9 5 0 0 1 7 6 9 2 4]\n",
      " [5 2 4 2 4 7 7 9 1 7 0 6]]\n",
      "W1=\n",
      "[[9 9 7 6 9]\n",
      " [1 0 1 8 8]\n",
      " [3 9 8 7 3]\n",
      " [6 5 1 9 3]\n",
      " [4 8 1 4 0]\n",
      " [3 9 2 0 4]\n",
      " [9 2 7 7 9]\n",
      " [8 6 9 3 7]\n",
      " [7 4 5 9 3]\n",
      " [6 8 0 2 7]\n",
      " [7 9 7 3 0]\n",
      " [8 7 7 1 1]]\n",
      "X1.W1=\n",
      "[[317 337 262 312 294]\n",
      " [340 356 266 213 291]]\n"
     ]
    }
   ],
   "source": [
    "# 验证单纯通过改变张量形状，无法增加神经网络拟合能力\n",
    "np.random.seed(1)\n",
    "X = np.random.randint(0,10,[2,3,4])\n",
    "W = np.random.randint(0,10,[3,4,5])\n",
    "print('X=\\n{}'.format(X))\n",
    "print('W=\\n{}'.format(W))\n",
    "print('X.W=\\n{}'.format(np.tensordot(X,W,[[1,2],[0,1]])))\n",
    "\n",
    "X1 = X.reshape([2,-1])\n",
    "W1 = W.reshape([-1,5])\n",
    "print('X1=\\n{}'.format(X1))\n",
    "print('W1=\\n{}'.format(W1))\n",
    "print('X1.W1=\\n{}'.format(np.tensordot(X1,W1,[[-1],[0]])))"
   ]
  },
  {
   "cell_type": "code",
   "execution_count": 220,
   "metadata": {},
   "outputs": [
    {
     "data": {
      "image/png": "[encoded data removed]",
      "text/plain": [
       "<matplotlib.figure.Figure at 0x10e6e8510>"
      ]
     },
     "metadata": {},
     "output_type": "display_data"
    }
   ],
   "source": [
    "class Linear_DIY():\n",
    "    def __init__(self, input_size, output_size):\n",
    "        self.input_size = input_size\n",
    "        self.output_size = output_size\n",
    "        self.weight = nn.Parameter(torch.randn(input_size, output_size)) # W\n",
    "        self.bias = nn.Parameter(torch.randn(output_size)) # B\n",
    "    def __call__(self, x):\n",
    "        self.input = x\n",
    "        self.output = torch.mm(self.input,self.weight)\n",
    "        self.output += self.bias.unsqueeze(0).expand_as(self.output)\n",
    "        return self.output\n",
    "    def step(self, lr=1e-3):\n",
    "        self.weight.data -= lr * self.weight.grad\n",
    "        self.bias.data -= lr * self.bias\n",
    "        self.weight.grad.data.zero_()\n",
    "        self.bias.grad.data.zero_()\n",
    "        \n",
    "lr = 1e-2\n",
    "batch_size = 5\n",
    "input_size = 10\n",
    "output_size = 2\n",
    "data_size = 500\n",
    "\n",
    "torch.manual_seed(1)\n",
    "np.random.seed(1)\n",
    "\n",
    "x_data = torch.randn(data_size,input_size) # the x dataset\n",
    "W = torch.randn(input_size,output_size)\n",
    "y_data = torch.mm(x_data,W)\n",
    "\n",
    "linear = Linear_DIY(input_size, output_size)\n",
    "\n",
    "Losses = []\n",
    "for epoch in range(2000):\n",
    "    sample_indices = np.random.randint(0,data_size,batch_size)\n",
    "    x = x_data[sample_indices]\n",
    "    x = linear(x)\n",
    "    y = y_data[sample_indices]\n",
    "    loss = torch.mean((x-y)**2)\n",
    "    loss.backward()\n",
    "    Losses.append(loss.detach().tolist())\n",
    "    linear.step(lr=lr)\n",
    "window_size = 20\n",
    "pl.plot(np.arange(0,len(Losses),window_size),torch.mean(torch.reshape(torch.Tensor(Losses),[-1,window_size]),1).numpy(),'r-')\n",
    "pl.xlabel('Time')\n",
    "pl.ylabel('Loss')\n",
    "pl.yscale('log')"
   ]
  },
  {
   "cell_type": "code",
   "execution_count": null,
   "metadata": {},
   "outputs": [],
   "source": [
    "# 定义一个线性层\n",
    "class Linear(nn.Module):\n",
    "    def __init__(self, input_features, output_features, bias=True):\n",
    "        super(Linear, self).__init__()\n",
    "        self.input_features = input_features\n",
    "        self.output_features = output_features\n",
    "\n",
    "        # nn.Parameter \n",
    "        self.weight = nn.Parameter(torch.Tensor(output_features, input_features))\n",
    "        if bias:\n",
    "            self.bias = nn.Parameter(torch.Tensor(output_features))\n",
    "        else:\n",
    "            # You should always register all possible parameters, but the\n",
    "            # optional ones can be None if you want.\n",
    "            self.register_parameter('bias', None)\n",
    "\n",
    "        # Not a very smart way to initialize weights\n",
    "        self.weight.data.uniform_(-0.1, 0.1)\n",
    "        if bias is not None:\n",
    "            self.bias.data.uniform_(-0.1, 0.1)\n",
    "\n",
    "    def forward(self, input):\n",
    "        # See the autograd section for explanation of what happens here.\n",
    "        return LinearFunction.apply(input, self.weight, self.bias)\n",
    "\n",
    "    def extra_repr(self):\n",
    "        # (Optional)Set the extra information about this module. You can test\n",
    "        # it by printing an object of this class.\n",
    "        return 'in_features={}, out_features={}, bias={}'.format(\n",
    "            self.in_features, self.out_features, self.bias is not None\n",
    "        )"
   ]
  },
  {
   "cell_type": "code",
   "execution_count": 171,
   "metadata": {},
   "outputs": [
    {
     "data": {
      "text/plain": [
       "False"
      ]
     },
     "execution_count": 171,
     "metadata": {},
     "output_type": "execute_result"
    }
   ],
   "source": [
    "x_data.requires_grad"
   ]
  },
  {
   "cell_type": "code",
   "execution_count": 214,
   "metadata": {},
   "outputs": [
    {
     "data": {
      "text/plain": [
       "torch.Size([200])"
      ]
     },
     "execution_count": 214,
     "metadata": {},
     "output_type": "execute_result"
    }
   ],
   "source": [
    "torch.mean(torch.reshape(torch.Tensor(Losses),[window_size,-1]),1).shape"
   ]
  },
  {
   "cell_type": "code",
   "execution_count": 20,
   "metadata": {},
   "outputs": [],
   "source": [
    "a.grad"
   ]
  },
  {
   "cell_type": "code",
   "execution_count": 22,
   "metadata": {},
   "outputs": [],
   "source": [
    "b = torch.sum(a)"
   ]
  },
  {
   "cell_type": "code",
   "execution_count": 27,
   "metadata": {},
   "outputs": [],
   "source": [
    "b.backward()"
   ]
  },
  {
   "cell_type": "code",
   "execution_count": 29,
   "metadata": {},
   "outputs": [
    {
     "data": {
      "text/plain": [
       "tensor([[ 0.,  0.,  0.,  0.],\n",
       "        [ 0.,  0.,  0.,  0.],\n",
       "        [ 0.,  0.,  0.,  0.]])"
      ]
     },
     "execution_count": 29,
     "metadata": {},
     "output_type": "execute_result"
    }
   ],
   "source": [
    "a.grad.data.zero_()"
   ]
  },
  {
   "cell_type": "code",
   "execution_count": 31,
   "metadata": {},
   "outputs": [],
   "source": [
    "x_data = torch.randn(100,10)"
   ]
  },
  {
   "cell_type": "code",
   "execution_count": 32,
   "metadata": {},
   "outputs": [
    {
     "data": {
      "text/plain": [
       "tensor([[ 0.5418, -1.5118,  1.1310, -0.5941, -0.1490,  0.1023, -0.4835,\n",
       "         -0.8586, -0.8997,  0.2854],\n",
       "        [-0.2442, -0.9765,  0.5358,  0.0370,  0.3044, -0.1317,  0.3825,\n",
       "          0.6634,  1.6009, -0.2887],\n",
       "        [ 1.6816, -1.1816, -1.0198,  1.5299,  0.0891,  1.7567,  1.3223,\n",
       "         -1.1961,  0.9497, -0.4836],\n",
       "        [ 0.5418, -1.5118,  1.1310, -0.5941, -0.1490,  0.1023, -0.4835,\n",
       "         -0.8586, -0.8997,  0.2854],\n",
       "        [ 1.8496, -0.0713, -1.8360,  1.2925,  0.7194, -1.2576,  2.0982,\n",
       "          0.1098,  0.2515, -0.0661]])"
      ]
     },
     "execution_count": 32,
     "metadata": {},
     "output_type": "execute_result"
    }
   ],
   "source": [
    "x_data[np.random.randint(0,100,5)]"
   ]
  },
  {
   "cell_type": "code",
   "execution_count": 213,
   "metadata": {},
   "outputs": [
    {
     "data": {
      "text/plain": [
       "10"
      ]
     },
     "execution_count": 213,
     "metadata": {},
     "output_type": "execute_result"
    }
   ],
   "source": [
    "len(np.arange(0,len(Losses),window_size))"
   ]
  },
  {
   "cell_type": "code",
   "execution_count": null,
   "metadata": {},
   "outputs": [],
   "source": []
  }
 ],
 "metadata": {
  "kernelspec": {
   "display_name": "Python 2",
   "language": "python",
   "name": "python2"
  },
  "language_info": {
   "codemirror_mode": {
    "name": "ipython",
    "version": 2
   },
   "file_extension": ".py",
   "mimetype": "text/x-python",
   "name": "python",
   "nbconvert_exporter": "python",
   "pygments_lexer": "ipython2",
   "version": "2.7.14"
  }
 },
 "nbformat": 4,
 "nbformat_minor": 2
}

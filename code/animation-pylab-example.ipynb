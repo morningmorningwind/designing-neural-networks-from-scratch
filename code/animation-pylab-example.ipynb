{
 "cells": [
  {
   "cell_type": "code",
   "execution_count": 1,
   "metadata": {},
   "outputs": [
    {
     "data": {
      "text/html": [
       "<img src='animation1.gif'></img>"
      ],
      "text/plain": [
       "<IPython.core.display.HTML object>"
      ]
     },
     "execution_count": 1,
     "metadata": {},
     "output_type": "execute_result"
    }
   ],
   "source": [
    "import pylab as plt\n",
    "import numpy as np\n",
    "from utils import animate\n",
    "# First set up the figure, the axis, and the plot element we want to animate\n",
    "#ax = plt.axes(xlim=(0, 10), ylim=(0, 10))\n",
    "#line, = ax.plot([], [], lw=2)\n",
    "#im = plt.imshow(a)\n",
    "# initialization function: plot the background of each frame\n",
    "#def init():\n",
    "#    im.set_data(np.random.random((10,10)))\n",
    "#    return im,\n",
    "\n",
    "# animation function.  This is called sequentially\n",
    "\n",
    "a=np.random.random((100,100))\n",
    "ims = []\n",
    "for i in range(20):\n",
    "    ims.append(a)\n",
    "    a = a*np.exp(-0.001*i) \n",
    "animate(ims,file_name='animation1.gif')"
   ]
  },
  {
   "cell_type": "code",
   "execution_count": null,
   "metadata": {},
   "outputs": [],
   "source": []
  }
 ],
 "metadata": {
  "kernelspec": {
   "display_name": "Python 2",
   "language": "python",
   "name": "python2"
  },
  "language_info": {
   "codemirror_mode": {
    "name": "ipython",
    "version": 2
   },
   "file_extension": ".py",
   "mimetype": "text/x-python",
   "name": "python",
   "nbconvert_exporter": "python",
   "pygments_lexer": "ipython2",
   "version": "2.7.14"
  }
 },
 "nbformat": 4,
 "nbformat_minor": 2
}
